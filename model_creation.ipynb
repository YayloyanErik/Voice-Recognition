{
 "cells": [
  {
   "cell_type": "code",
   "execution_count": 1,
   "metadata": {},
   "outputs": [],
   "source": [
    "from AudioRecognizing import *\n",
    "import os"
   ]
  },
  {
   "cell_type": "code",
   "execution_count": 2,
   "metadata": {},
   "outputs": [],
   "source": [
    "def Create_dir(path):\n",
    "    if not os.path.exists(path):\n",
    "        os.mkdir(path)"
   ]
  },
  {
   "cell_type": "code",
   "execution_count": 3,
   "metadata": {},
   "outputs": [],
   "source": [
    "# Names\n",
    "P1_name = 'Edgar'\n",
    "P2_name = 'Erik'\n",
    "P3_name = 'Hayk'\n",
    "\n",
    "# Voices for training\n",
    "P1_voice = 'Voice/Edgar_hetazotakan.wav'\n",
    "P2_voice = 'Voice/Ero_hetazotakan.wav'\n",
    "P3_voice = 'Voice/Hayk_hetazotakan.wav'"
   ]
  },
  {
   "cell_type": "code",
   "execution_count": 4,
   "metadata": {},
   "outputs": [],
   "source": [
    "Create_dir('Audio')\n",
    "Create_dir('Clean')\n",
    "Create_dir('Data')\n",
    "Create_dir('Model')\n",
    "Create_dir('Segments')\n",
    "Create_dir(f'Segments/{P1_name}')\n",
    "Create_dir(f'Segments/{P2_name}')\n",
    "Create_dir(f'Segments/{P3_name}')"
   ]
  },
  {
   "cell_type": "code",
   "execution_count": 5,
   "metadata": {},
   "outputs": [],
   "source": [
    "CleanAudio(P1_voice, f'Clean/{P1_name}.wav')\n",
    "CleanAudio(P2_voice, f'Clean/{P2_name}.wav')\n",
    "CleanAudio(P3_voice, f'Clean/{P3_name}.wav')"
   ]
  },
  {
   "cell_type": "code",
   "execution_count": 5,
   "metadata": {},
   "outputs": [],
   "source": [
    "len1 = Split(f'Clean/{P1_name}.wav', f'Segments/{P1_name}', 100, 0) # P1's segments count\n",
    "len2 = Split(f'Clean/{P2_name}.wav', f'Segments/{P2_name}', 100, 1)   # P2's segments count\n",
    "len3 = Split(f'Clean/{P3_name}.wav', f'Segments/{P3_name}', 100, 2)   # P3's segments count\n",
    "min  = min(len1, len2, len3)"
   ]
  },
  {
   "cell_type": "code",
   "execution_count": 6,
   "metadata": {},
   "outputs": [],
   "source": [
    "FFT(f'Segments/{P1_name}', min, 'Data/P1.csv', 0)\n",
    "FFT(f'Segments/{P2_name}', min, 'Data/P2.csv', 1)\n",
    "FFT(f'Segments/{P3_name}', min, 'Data/P3.csv', 2)"
   ]
  },
  {
   "cell_type": "code",
   "execution_count": 9,
   "metadata": {},
   "outputs": [
    {
     "name": "stdout",
     "output_type": "stream",
     "text": [
      "0:\tlearn: 1.0223760\ttotal: 303ms\tremaining: 5m 2s\n",
      "10:\tlearn: 0.6441582\ttotal: 1.77s\tremaining: 2m 39s\n",
      "20:\tlearn: 0.4984356\ttotal: 3.17s\tremaining: 2m 27s\n",
      "30:\tlearn: 0.4245166\ttotal: 4.56s\tremaining: 2m 22s\n",
      "40:\tlearn: 0.3760293\ttotal: 5.96s\tremaining: 2m 19s\n",
      "50:\tlearn: 0.3435627\ttotal: 7.33s\tremaining: 2m 16s\n",
      "60:\tlearn: 0.3184864\ttotal: 8.71s\tremaining: 2m 14s\n",
      "70:\tlearn: 0.2979976\ttotal: 10.1s\tremaining: 2m 11s\n",
      "80:\tlearn: 0.2790532\ttotal: 11.4s\tremaining: 2m 9s\n",
      "90:\tlearn: 0.2618659\ttotal: 12.8s\tremaining: 2m 7s\n",
      "100:\tlearn: 0.2455244\ttotal: 14.2s\tremaining: 2m 6s\n",
      "110:\tlearn: 0.2309403\ttotal: 15.7s\tremaining: 2m 5s\n",
      "120:\tlearn: 0.2200212\ttotal: 17s\tremaining: 2m 3s\n",
      "130:\tlearn: 0.2103909\ttotal: 18.3s\tremaining: 2m 1s\n",
      "140:\tlearn: 0.2011183\ttotal: 19.7s\tremaining: 2m\n",
      "150:\tlearn: 0.1925414\ttotal: 21.1s\tremaining: 1m 58s\n",
      "160:\tlearn: 0.1846480\ttotal: 22.4s\tremaining: 1m 56s\n",
      "170:\tlearn: 0.1765880\ttotal: 23.7s\tremaining: 1m 55s\n",
      "180:\tlearn: 0.1706983\ttotal: 25.1s\tremaining: 1m 53s\n",
      "190:\tlearn: 0.1648298\ttotal: 26.4s\tremaining: 1m 51s\n",
      "200:\tlearn: 0.1585270\ttotal: 27.8s\tremaining: 1m 50s\n",
      "210:\tlearn: 0.1524285\ttotal: 29.1s\tremaining: 1m 48s\n",
      "220:\tlearn: 0.1477869\ttotal: 30.6s\tremaining: 1m 47s\n",
      "230:\tlearn: 0.1434991\ttotal: 31.9s\tremaining: 1m 46s\n",
      "240:\tlearn: 0.1383756\ttotal: 33.3s\tremaining: 1m 44s\n",
      "250:\tlearn: 0.1341123\ttotal: 34.8s\tremaining: 1m 43s\n",
      "260:\tlearn: 0.1295805\ttotal: 36.3s\tremaining: 1m 42s\n",
      "270:\tlearn: 0.1258624\ttotal: 37.7s\tremaining: 1m 41s\n",
      "280:\tlearn: 0.1221889\ttotal: 39.1s\tremaining: 1m 40s\n",
      "290:\tlearn: 0.1188152\ttotal: 40.5s\tremaining: 1m 38s\n",
      "300:\tlearn: 0.1147449\ttotal: 41.9s\tremaining: 1m 37s\n",
      "310:\tlearn: 0.1115573\ttotal: 43.2s\tremaining: 1m 35s\n",
      "320:\tlearn: 0.1080999\ttotal: 44.5s\tremaining: 1m 34s\n",
      "330:\tlearn: 0.1048317\ttotal: 45.8s\tremaining: 1m 32s\n",
      "340:\tlearn: 0.1021781\ttotal: 47.2s\tremaining: 1m 31s\n",
      "350:\tlearn: 0.0991500\ttotal: 48.5s\tremaining: 1m 29s\n",
      "360:\tlearn: 0.0969961\ttotal: 49.8s\tremaining: 1m 28s\n",
      "370:\tlearn: 0.0940490\ttotal: 51.1s\tremaining: 1m 26s\n",
      "380:\tlearn: 0.0914722\ttotal: 52.5s\tremaining: 1m 25s\n",
      "390:\tlearn: 0.0891202\ttotal: 54.1s\tremaining: 1m 24s\n",
      "400:\tlearn: 0.0873831\ttotal: 55.4s\tremaining: 1m 22s\n",
      "410:\tlearn: 0.0853723\ttotal: 56.7s\tremaining: 1m 21s\n",
      "420:\tlearn: 0.0829060\ttotal: 58s\tremaining: 1m 19s\n",
      "430:\tlearn: 0.0806736\ttotal: 59.5s\tremaining: 1m 18s\n",
      "440:\tlearn: 0.0784339\ttotal: 1m\tremaining: 1m 17s\n",
      "450:\tlearn: 0.0764738\ttotal: 1m 2s\tremaining: 1m 15s\n",
      "460:\tlearn: 0.0746280\ttotal: 1m 3s\tremaining: 1m 14s\n",
      "470:\tlearn: 0.0729395\ttotal: 1m 5s\tremaining: 1m 13s\n",
      "480:\tlearn: 0.0707240\ttotal: 1m 6s\tremaining: 1m 11s\n",
      "490:\tlearn: 0.0688856\ttotal: 1m 7s\tremaining: 1m 10s\n",
      "500:\tlearn: 0.0677005\ttotal: 1m 9s\tremaining: 1m 8s\n",
      "510:\tlearn: 0.0661156\ttotal: 1m 10s\tremaining: 1m 7s\n",
      "520:\tlearn: 0.0646687\ttotal: 1m 11s\tremaining: 1m 6s\n",
      "530:\tlearn: 0.0626578\ttotal: 1m 13s\tremaining: 1m 4s\n",
      "540:\tlearn: 0.0612967\ttotal: 1m 14s\tremaining: 1m 3s\n",
      "550:\tlearn: 0.0596723\ttotal: 1m 16s\tremaining: 1m 2s\n",
      "560:\tlearn: 0.0582686\ttotal: 1m 17s\tremaining: 1m\n",
      "570:\tlearn: 0.0567254\ttotal: 1m 18s\tremaining: 59.2s\n",
      "580:\tlearn: 0.0553773\ttotal: 1m 20s\tremaining: 57.8s\n",
      "590:\tlearn: 0.0542077\ttotal: 1m 21s\tremaining: 56.5s\n",
      "600:\tlearn: 0.0531160\ttotal: 1m 23s\tremaining: 55.1s\n",
      "610:\tlearn: 0.0519036\ttotal: 1m 24s\tremaining: 53.8s\n",
      "620:\tlearn: 0.0509075\ttotal: 1m 25s\tremaining: 52.3s\n",
      "630:\tlearn: 0.0498381\ttotal: 1m 27s\tremaining: 50.9s\n",
      "640:\tlearn: 0.0488575\ttotal: 1m 28s\tremaining: 49.5s\n",
      "650:\tlearn: 0.0474909\ttotal: 1m 29s\tremaining: 48.1s\n",
      "660:\tlearn: 0.0464558\ttotal: 1m 31s\tremaining: 46.7s\n",
      "670:\tlearn: 0.0455799\ttotal: 1m 32s\tremaining: 45.3s\n",
      "680:\tlearn: 0.0445679\ttotal: 1m 33s\tremaining: 43.9s\n",
      "690:\tlearn: 0.0437651\ttotal: 1m 35s\tremaining: 42.5s\n",
      "700:\tlearn: 0.0426616\ttotal: 1m 36s\tremaining: 41.1s\n",
      "710:\tlearn: 0.0417808\ttotal: 1m 37s\tremaining: 39.7s\n",
      "720:\tlearn: 0.0410069\ttotal: 1m 39s\tremaining: 38.3s\n",
      "730:\tlearn: 0.0401057\ttotal: 1m 40s\tremaining: 37s\n",
      "740:\tlearn: 0.0392216\ttotal: 1m 41s\tremaining: 35.6s\n",
      "750:\tlearn: 0.0383204\ttotal: 1m 43s\tremaining: 34.2s\n",
      "760:\tlearn: 0.0375792\ttotal: 1m 44s\tremaining: 32.8s\n",
      "770:\tlearn: 0.0368466\ttotal: 1m 45s\tremaining: 31.4s\n",
      "780:\tlearn: 0.0360073\ttotal: 1m 47s\tremaining: 30.1s\n",
      "790:\tlearn: 0.0352656\ttotal: 1m 48s\tremaining: 28.7s\n",
      "800:\tlearn: 0.0345538\ttotal: 1m 49s\tremaining: 27.3s\n",
      "810:\tlearn: 0.0338667\ttotal: 1m 51s\tremaining: 25.9s\n",
      "820:\tlearn: 0.0333169\ttotal: 1m 52s\tremaining: 24.6s\n",
      "830:\tlearn: 0.0327532\ttotal: 1m 54s\tremaining: 23.2s\n",
      "840:\tlearn: 0.0321588\ttotal: 1m 55s\tremaining: 21.8s\n",
      "850:\tlearn: 0.0315563\ttotal: 1m 56s\tremaining: 20.5s\n",
      "860:\tlearn: 0.0309955\ttotal: 1m 58s\tremaining: 19.1s\n",
      "870:\tlearn: 0.0302605\ttotal: 1m 59s\tremaining: 17.7s\n",
      "880:\tlearn: 0.0296552\ttotal: 2m 1s\tremaining: 16.3s\n",
      "890:\tlearn: 0.0291526\ttotal: 2m 2s\tremaining: 15s\n",
      "900:\tlearn: 0.0286434\ttotal: 2m 3s\tremaining: 13.6s\n",
      "910:\tlearn: 0.0281219\ttotal: 2m 5s\tremaining: 12.2s\n",
      "920:\tlearn: 0.0276474\ttotal: 2m 6s\tremaining: 10.9s\n",
      "930:\tlearn: 0.0271829\ttotal: 2m 7s\tremaining: 9.47s\n",
      "940:\tlearn: 0.0267205\ttotal: 2m 9s\tremaining: 8.1s\n",
      "950:\tlearn: 0.0262034\ttotal: 2m 10s\tremaining: 6.73s\n",
      "960:\tlearn: 0.0257211\ttotal: 2m 12s\tremaining: 5.36s\n",
      "970:\tlearn: 0.0252514\ttotal: 2m 13s\tremaining: 3.98s\n",
      "980:\tlearn: 0.0248784\ttotal: 2m 14s\tremaining: 2.61s\n",
      "990:\tlearn: 0.0244412\ttotal: 2m 16s\tremaining: 1.24s\n",
      "999:\tlearn: 0.0240619\ttotal: 2m 17s\tremaining: 0us\n"
     ]
    },
    {
     "data": {
      "text/plain": [
       "91.49952244508118"
      ]
     },
     "execution_count": 9,
     "metadata": {},
     "output_type": "execute_result"
    }
   ],
   "source": [
    "CatBoostModel('Data/P1.csv',\n",
    "              'Data/P2.csv',\n",
    "              'Data/P3.csv',\n",
    "              1000,\n",
    "              'Model/model.pkl'\n",
    "              )"
   ]
  }
 ],
 "metadata": {
  "kernelspec": {
   "display_name": "Python 3",
   "language": "python",
   "name": "python3"
  },
  "language_info": {
   "codemirror_mode": {
    "name": "ipython",
    "version": 3
   },
   "file_extension": ".py",
   "mimetype": "text/x-python",
   "name": "python",
   "nbconvert_exporter": "python",
   "pygments_lexer": "ipython3",
   "version": "3.12.3"
  }
 },
 "nbformat": 4,
 "nbformat_minor": 2
}
